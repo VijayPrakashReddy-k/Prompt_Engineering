{
 "cells": [
  {
   "cell_type": "markdown",
   "id": "98e99785",
   "metadata": {},
   "source": [
    "### LangChain for LLM Application Development:\n",
    "\n",
    "- LangChain for LLM Application Development is a beginner-friendly, short one-hour course instructed by *Harrison Chase (Co-Founder and CEO at LangChain)* and Andrew Ng and requires basic Python knowledge. \n",
    "<br>\n",
    "\n",
    "- The program will enable you to apply LLMs to your data, and *build personalised assistants and chatbots.* \n",
    "<br>\n",
    "\n",
    "- It will also explore **agents, chained calls, and memories to enhance the utility of LLMs.** The course provides comprehensive instruction and hands-on experience in crucial topics such as *Models, Prompts, and Parsers.* \n",
    "<br>\n",
    "\n",
    "- You will gain expertise in invoking LLMs, supplying prompts, and parsing responses. Additionally, you will explore memory implementation, chain construction, leveraging LLMs for Question Answering over Documents, and the frontier of LLMs as reasoning agents. \n",
    "<br>\n",
    "\n",
    "- By the end of the course, you will have a model to kickstart your independent exploration of diffusion models for your own applications. LangChain for LLM Application Development is beginner-friendly and requires basic Python knowledge.\n",
    "<br>\n",
    "\n",
    "- LangChain is an important Python framework for large language models (LLMs) that has gained significant attention in the developer ecosystem over time as it simplifies the integration of LLMs into applications, making them more accessible. With support from multiple model providers and hosting platforms, LangChain has raised substantial funding and is valued at $200 million. It enables the creation of AI agents through command chaining and offers access to advanced LLMs from providers like Hugging Face. So if you want to up your game, enrol for this course now. "
   ]
  },
  {
   "cell_type": "markdown",
   "id": "58e265dd",
   "metadata": {},
   "source": [
    "![Lang-Chain Overview](Images/Overview_LangChain.png)"
   ]
  },
  {
   "cell_type": "markdown",
   "id": "6122b8d0",
   "metadata": {},
   "source": [
    "![LangChain-Components](Images/LangChain_Components.png)"
   ]
  }
 ],
 "metadata": {
  "kernelspec": {
   "display_name": "Python 3 (ipykernel)",
   "language": "python",
   "name": "python3"
  },
  "language_info": {
   "codemirror_mode": {
    "name": "ipython",
    "version": 3
   },
   "file_extension": ".py",
   "mimetype": "text/x-python",
   "name": "python",
   "nbconvert_exporter": "python",
   "pygments_lexer": "ipython3",
   "version": "3.10.10"
  }
 },
 "nbformat": 4,
 "nbformat_minor": 5
}
